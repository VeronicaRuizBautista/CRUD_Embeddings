{
 "cells": [
  {
   "cell_type": "markdown",
   "metadata": {},
   "source": [
    "## CRUD con Embeddings\n",
    "\n",
    "Instalar dependencias en caso de no haber ejecutado el archivo requirements.txt"
   ]
  },
  {
   "cell_type": "code",
   "execution_count": null,
   "metadata": {},
   "outputs": [],
   "source": [
    "%pip install sentence-transformers numpy pandas"
   ]
  },
  {
   "cell_type": "markdown",
   "metadata": {},
   "source": [
    "Importar librerías necesarias"
   ]
  },
  {
   "cell_type": "code",
   "execution_count": null,
   "metadata": {},
   "outputs": [],
   "source": [
    "from sentence_transformers import SentenceTransformer\n",
    "import numpy as np\n",
    "import pandas as pd\n",
    "from sklearn.metrics.pairwise import cosine_similarity"
   ]
  },
  {
   "cell_type": "markdown",
   "metadata": {},
   "source": [
    "Crear el modelo de embeddings"
   ]
  },
  {
   "cell_type": "code",
   "execution_count": null,
   "metadata": {},
   "outputs": [],
   "source": [
    "modelo = SentenceTransformer('all-MiniLM-L6-v2')"
   ]
  },
  {
   "cell_type": "markdown",
   "metadata": {},
   "source": [
    "\n",
    "Inicializar el DataFrame donde se almacenarán los embeddings"
   ]
  },
  {
   "cell_type": "code",
   "execution_count": 4,
   "metadata": {},
   "outputs": [],
   "source": [
    "embeddings_df = pd.DataFrame(columns=[\"id\", \"embedding\", \"texto\"])"
   ]
  },
  {
   "cell_type": "markdown",
   "metadata": {},
   "source": [
    "1. Crear un embedding y agregarlo al DataFrame"
   ]
  },
  {
   "cell_type": "code",
   "execution_count": 6,
   "metadata": {},
   "outputs": [],
   "source": [
    "def agregar_embedding(texto):\n",
    "    embedding = modelo.encode([texto])[0]\n",
    "    nuevo_id = len(embeddings_df) + 1\n",
    "    embeddings_df.loc[len(embeddings_df)] = [nuevo_id, embedding, texto]\n",
    "    return nuevo_id, embedding"
   ]
  },
  {
   "cell_type": "markdown",
   "metadata": {},
   "source": [
    "2. Leer un embedding (consultar todos los embeddings)"
   ]
  },
  {
   "cell_type": "code",
   "execution_count": 7,
   "metadata": {},
   "outputs": [],
   "source": [
    "def obtener_embeddings():\n",
    "    return embeddings_df"
   ]
  },
  {
   "cell_type": "markdown",
   "metadata": {},
   "source": [
    "3. Consultar los embeddings más similares a una consulta"
   ]
  },
  {
   "cell_type": "code",
   "execution_count": 9,
   "metadata": {},
   "outputs": [],
   "source": [
    "def consultar_similares(texto_consulta, top_k=5):\n",
    "    embedding_consulta = modelo.encode([texto_consulta])[0]\n",
    "    embeddings_array = np.array(embeddings_df['embedding'].tolist())\n",
    "    sim = cosine_similarity([embedding_consulta], embeddings_array)\n",
    "    indices_similares = sim[0].argsort()[-top_k:][::-1]\n",
    "    \n",
    "    resultados = []\n",
    "    for idx in indices_similares:\n",
    "        resultados.append(embeddings_df.iloc[idx])\n",
    "    \n",
    "    return resultados"
   ]
  },
  {
   "cell_type": "markdown",
   "metadata": {},
   "source": [
    "4. Actualizar un embedding por ID"
   ]
  },
  {
   "cell_type": "code",
   "execution_count": 89,
   "metadata": {},
   "outputs": [],
   "source": [
    "def actualizar_embedding(id, nuevo_texto):\n",
    "    try:\n",
    "        # Verificar el tipo de la columna 'embedding'\n",
    "        if embeddings_df['embedding'].dtype != 'object':\n",
    "            embeddings_df['embedding'] = embeddings_df['embedding'].astype(object)\n",
    "        \n",
    "        # Obtener el embedding antiguo\n",
    "        embedding_antiguo = embeddings_df.loc[embeddings_df['id'] == id, 'embedding'].values[0]\n",
    "        print(\"Tamaño del antiguo embedding:\", len(embedding_antiguo))\n",
    "\n",
    "        # Generar el nuevo embedding\n",
    "        embedding_nuevo = modelo.encode([nuevo_texto])[0]\n",
    "        print(\"Tamaño del nuevo embedding:\", len(embedding_nuevo))\n",
    "\n",
    "        # Validar tamaño y tipo del embedding\n",
    "        if isinstance(embedding_nuevo, (list, np.ndarray)) and len(embedding_nuevo) == len(embedding_antiguo):\n",
    "            # Actualizar la fila correspondiente en el DataFrame\n",
    "            embeddings_df.loc[embeddings_df['id'] == id, 'embedding'] = embeddings_df.loc[embeddings_df['id'] == id, 'embedding'].apply(\n",
    "                lambda _: embedding_nuevo.tolist() if isinstance(embedding_nuevo, np.ndarray) else embedding_nuevo\n",
    "            )\n",
    "            embeddings_df.loc[embeddings_df['id'] == id, 'texto'] = nuevo_texto\n",
    "            print(f\"Embedding actualizado correctamente para el ID {id}\")\n",
    "            return id, nuevo_texto\n",
    "        else:\n",
    "            raise ValueError(\"El tamaño del nuevo embedding no coincide con el tamaño esperado.\")\n",
    "    except Exception as e:\n",
    "        print(f\"Error al actualizar el embedding: {e}\")\n",
    "        return None, None\n",
    "\n"
   ]
  },
  {
   "cell_type": "markdown",
   "metadata": {},
   "source": [
    "5. Eliminar un embedding por ID"
   ]
  },
  {
   "cell_type": "code",
   "execution_count": 11,
   "metadata": {},
   "outputs": [],
   "source": [
    "def eliminar_embedding(id):\n",
    "    embeddings_df.drop(embeddings_df[embeddings_df['id'] == id].index, inplace=True)\n",
    "    return id"
   ]
  },
  {
   "cell_type": "markdown",
   "metadata": {},
   "source": [
    "# Uso del CRUD\n",
    "\n",
    "1. Crear embeddings"
   ]
  },
  {
   "cell_type": "code",
   "execution_count": 37,
   "metadata": {},
   "outputs": [],
   "source": [
    "id1, embedding1 = agregar_embedding(\"Este es un texto de prueba.\")\n",
    "id2, embedding2 = agregar_embedding(\"Otro texto para generar un embedding.\")\n",
    "id3, embedding3 = agregar_embedding(\"Ejemplo de texto para el crud.\")"
   ]
  },
  {
   "cell_type": "markdown",
   "metadata": {},
   "source": [
    "2. Leer los embeddings"
   ]
  },
  {
   "cell_type": "code",
   "execution_count": null,
   "metadata": {},
   "outputs": [],
   "source": [
    "print(\"Embeddings en la base de datos:\")\n",
    "print(obtener_embeddings())"
   ]
  },
  {
   "cell_type": "markdown",
   "metadata": {},
   "source": [
    "3. Consultar los embeddings más similares a un nuevo texto"
   ]
  },
  {
   "cell_type": "code",
   "execution_count": null,
   "metadata": {},
   "outputs": [],
   "source": [
    "resultados = consultar_similares(\"texto de ejemplo\")\n",
    "print(\"\\nEmbeddings más similares a la consulta:\")\n",
    "for resultado in resultados:\n",
    "    print(resultado)"
   ]
  },
  {
   "cell_type": "markdown",
   "metadata": {},
   "source": [
    "4. Actualizar un embedding"
   ]
  },
  {
   "cell_type": "code",
   "execution_count": null,
   "metadata": {},
   "outputs": [],
   "source": [
    "# ID del embedding a actualizar y nuevo texto\n",
    "id_actualizar = 2\n",
    "nuevo_texto = \"Un texto generado para comprobar el funcionamiento del embedding.\"\n",
    "\n",
    "# Llamar a la función para actualizar el embedding\n",
    "id_actualizado, texto_actualizado = actualizar_embedding(id_actualizar, nuevo_texto)\n",
    "\n",
    "if id_actualizado is not None:\n",
    "    print(f\"Embedding actualizado: {id_actualizado}, Nuevo texto: {texto_actualizado}\")\n",
    "else:\n",
    "    print(\"Hubo un error al actualizar el embedding.\")\n"
   ]
  },
  {
   "cell_type": "markdown",
   "metadata": {},
   "source": [
    "5. Eliminar un embedding"
   ]
  },
  {
   "cell_type": "code",
   "execution_count": null,
   "metadata": {},
   "outputs": [],
   "source": [
    "id = 3\n",
    "id_eliminado = eliminar_embedding(id)\n",
    "print(f\"\\nEmbedding eliminado: {id_eliminado}\")"
   ]
  }
 ],
 "metadata": {
  "kernelspec": {
   "display_name": "env",
   "language": "python",
   "name": "python3"
  },
  "language_info": {
   "codemirror_mode": {
    "name": "ipython",
    "version": 3
   },
   "file_extension": ".py",
   "mimetype": "text/x-python",
   "name": "python",
   "nbconvert_exporter": "python",
   "pygments_lexer": "ipython3",
   "version": "3.11.9"
  }
 },
 "nbformat": 4,
 "nbformat_minor": 2
}
