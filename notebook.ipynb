{
 "cells": [
  {
   "cell_type": "markdown",
   "metadata": {},
   "source": [
    "## CRUD con Embeddings\n",
    "\n",
    "Instalar dependencias en caso de no haber ejecutado el archivo requirements.txt"
   ]
  },
  {
   "cell_type": "code",
   "execution_count": null,
   "metadata": {},
   "outputs": [],
   "source": [
    "%pip install sentence-transformers numpy pandas qdrant-client"
   ]
  },
  {
   "cell_type": "markdown",
   "metadata": {},
   "source": [
    "Importar librerías necesarias"
   ]
  },
  {
   "cell_type": "code",
   "execution_count": 96,
   "metadata": {},
   "outputs": [],
   "source": [
    "import random\n",
    "from sentence_transformers import SentenceTransformer\n",
    "from qdrant_client import QdrantClient\n",
    "from qdrant_client.models import VectorParams, Distance\n"
   ]
  },
  {
   "cell_type": "markdown",
   "metadata": {},
   "source": [
    "Crear el modelo de embeddings"
   ]
  },
  {
   "cell_type": "code",
   "execution_count": 3,
   "metadata": {},
   "outputs": [],
   "source": [
    "modelo = SentenceTransformer('all-MiniLM-L6-v2')"
   ]
  },
  {
   "cell_type": "markdown",
   "metadata": {},
   "source": [
    "\n",
    "Inicializamos el cliente de Qdrant"
   ]
  },
  {
   "cell_type": "code",
   "execution_count": 50,
   "metadata": {},
   "outputs": [],
   "source": [
    "client = QdrantClient(\n",
    "    url=\"https://c0ecc735-4daa-4faf-8e47-87ec35ba28bc.europe-west3-0.gcp.cloud.qdrant.io:6333\", \n",
    "    https=True,\n",
    "    api_key=\"zXQmNpc6rGfyeSiibzntmDDph_xegr3cI1DoiK5hvK6Uj2WYGKcTdA\",\n",
    ")\n",
    "index_name = \"embeddings_index\""
   ]
  },
  {
   "cell_type": "markdown",
   "metadata": {},
   "source": [
    "1. Crear un embedding y agregarlo a Qdrant"
   ]
  },
  {
   "cell_type": "code",
   "execution_count": 97,
   "metadata": {},
   "outputs": [],
   "source": [
    "def generar_id_numerico():\n",
    "    return random.randint(1000, 9999)\n",
    "\n",
    "\n",
    "def agregar_embedding(texto):\n",
    "    # Generar el embedding\n",
    "    embedding = modelo.encode([texto])[0]\n",
    "    \n",
    "    # Generar un ID aleatorio\n",
    "    nuevo_id = generar_id_numerico()\n",
    "\n",
    "    client.upsert(\n",
    "        collection_name=index_name,\n",
    "        points=[{\n",
    "            'id': nuevo_id,\n",
    "            'vector': embedding.tolist(),\n",
    "            'payload': {'texto': texto}\n",
    "        }]\n",
    "    )\n",
    "    return nuevo_id, embedding"
   ]
  },
  {
   "cell_type": "markdown",
   "metadata": {},
   "source": [
    "2. Leer un embedding (consultar todos los embeddings)"
   ]
  },
  {
   "cell_type": "code",
   "execution_count": 101,
   "metadata": {},
   "outputs": [],
   "source": [
    "def obtener_embeddings():\n",
    "    embeddings = []\n",
    "    scroll_response = client.scroll(collection_name=index_name, limit=1000)\n",
    "\n",
    "    while scroll_response and scroll_response[0]:\n",
    "        for point in scroll_response[0]:\n",
    "            embeddings.append({\n",
    "                \"id\": point.id, \n",
    "                \"texto\": point.payload[\"texto\"]\n",
    "            })\n",
    "\n",
    "        # Continuamos con la siguiente página utilizando el scroll_token\n",
    "        scroll_token = scroll_response[1]\n",
    "        if not scroll_token:\n",
    "            break\n",
    "\n",
    "        # Continuamos el scroll utilizando el token de paginación\n",
    "        scroll_response = client.scroll(collection_name=index_name, scroll_token=scroll_token)\n",
    "\n",
    "    return embeddings"
   ]
  },
  {
   "cell_type": "markdown",
   "metadata": {},
   "source": [
    "3. Consultar los embeddings más similares a una consulta"
   ]
  },
  {
   "cell_type": "code",
   "execution_count": 28,
   "metadata": {},
   "outputs": [],
   "source": [
    "def consultar_similares(texto_consulta, top_k=5):\n",
    "    embedding_consulta = modelo.encode([texto_consulta])[0]\n",
    "    resultados = client.search(\n",
    "        collection_name=index_name,\n",
    "        query_vector=embedding_consulta.tolist(),\n",
    "        limit=top_k\n",
    "    )\n",
    "    \n",
    "    # Extraer los resultados y formatearlos\n",
    "    return [{\n",
    "        \"id\": res.id,\n",
    "        \"texto\": res.payload[\"texto\"],\n",
    "        \"score\": res.score\n",
    "    } for res in resultados]"
   ]
  },
  {
   "cell_type": "markdown",
   "metadata": {},
   "source": [
    "4. Actualizar un embedding por ID"
   ]
  },
  {
   "cell_type": "code",
   "execution_count": 29,
   "metadata": {},
   "outputs": [],
   "source": [
    "def actualizar_embedding(id, nuevo_texto):\n",
    "    embedding_nuevo = modelo.encode([nuevo_texto])[0]\n",
    "    \n",
    "    client.upsert(\n",
    "        collection_name=index_name,\n",
    "        points=[{\n",
    "            'id': id,\n",
    "            'vector': embedding_nuevo.tolist(),\n",
    "            'payload': {'texto': nuevo_texto}\n",
    "        }]\n",
    "    )\n",
    "    return id, nuevo_texto"
   ]
  },
  {
   "cell_type": "markdown",
   "metadata": {},
   "source": [
    "5. Eliminar un embedding por ID"
   ]
  },
  {
   "cell_type": "code",
   "execution_count": 85,
   "metadata": {},
   "outputs": [],
   "source": [
    "def eliminar_embedding(id):\n",
    "    client.delete(\n",
    "        collection_name=index_name,\n",
    "        points_selector=[id]\n",
    "    )\n",
    "    return id\n",
    "\n"
   ]
  },
  {
   "cell_type": "markdown",
   "metadata": {},
   "source": [
    "# Uso del CRUD\n",
    "\n",
    "1. Crear embeddings"
   ]
  },
  {
   "cell_type": "code",
   "execution_count": 98,
   "metadata": {},
   "outputs": [],
   "source": [
    "id1, embedding1 = agregar_embedding(\"Este es un texto de prueba.\")\n",
    "id2, embedding2 = agregar_embedding(\"Otro texto para generar un embedding.\")\n",
    "id3, embedding3 = agregar_embedding(\"Ejemplo de texto para el crud.\")"
   ]
  },
  {
   "cell_type": "markdown",
   "metadata": {},
   "source": [
    "2. Leer los embeddings"
   ]
  },
  {
   "cell_type": "code",
   "execution_count": null,
   "metadata": {},
   "outputs": [],
   "source": [
    "print(\"Embeddings en la base de datos:\")\n",
    "print(obtener_embeddings())"
   ]
  },
  {
   "cell_type": "markdown",
   "metadata": {},
   "source": [
    "3. Consultar los embeddings más similares a un nuevo texto"
   ]
  },
  {
   "cell_type": "code",
   "execution_count": null,
   "metadata": {},
   "outputs": [],
   "source": [
    "resultados = consultar_similares(\"texto de ejemplo\")\n",
    "print(\"\\nEmbeddings más similares a la consulta:\")\n",
    "for resultado in resultados:\n",
    "    print(resultado)"
   ]
  },
  {
   "cell_type": "markdown",
   "metadata": {},
   "source": [
    "4. Actualizar un embedding"
   ]
  },
  {
   "cell_type": "code",
   "execution_count": null,
   "metadata": {},
   "outputs": [],
   "source": [
    "id_actualizar = 2\n",
    "nuevo_texto = \"Un texto generado para comprobar el funcionamiento del embedding.\"\n",
    "id_actualizado, texto_actualizado = actualizar_embedding(id_actualizar, nuevo_texto)\n",
    "\n",
    "if id_actualizado is not None:\n",
    "    print(f\"Embedding actualizado: {id_actualizado}, Nuevo texto: {texto_actualizado}\")\n",
    "else:\n",
    "    print(\"Hubo un error al actualizar el embedding.\")"
   ]
  },
  {
   "cell_type": "markdown",
   "metadata": {},
   "source": [
    "5. Eliminar un embedding"
   ]
  },
  {
   "cell_type": "code",
   "execution_count": null,
   "metadata": {},
   "outputs": [],
   "source": [
    "id = 9167 #reemplazar por el id a eliminar\n",
    "id_eliminado = eliminar_embedding(id)\n",
    "print(f\"\\nEmbedding eliminado: {id_eliminado}\")"
   ]
  }
 ],
 "metadata": {
  "kernelspec": {
   "display_name": "Python 3",
   "language": "python",
   "name": "python3"
  },
  "language_info": {
   "codemirror_mode": {
    "name": "ipython",
    "version": 3
   },
   "file_extension": ".py",
   "mimetype": "text/x-python",
   "name": "python",
   "nbconvert_exporter": "python",
   "pygments_lexer": "ipython3",
   "version": "3.11.9"
  }
 },
 "nbformat": 4,
 "nbformat_minor": 2
}
