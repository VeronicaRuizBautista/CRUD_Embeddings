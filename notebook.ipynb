{
 "cells": [
  {
   "cell_type": "markdown",
   "metadata": {},
   "source": [
    "## CRUD con Embeddings\n",
    "\n",
    "Instalar dependencias en caso de no haber ejecutado el archivo requirements.txt"
   ]
  },
  {
   "cell_type": "code",
   "execution_count": 1,
   "metadata": {},
   "outputs": [
    {
     "name": "stdout",
     "output_type": "stream",
     "text": [
      "Requirement already satisfied: sentence-transformers in c:\\users\\solvo\\documents\\vero\\crud python\\env\\lib\\site-packages (3.3.1)\n",
      "Requirement already satisfied: numpy in c:\\users\\solvo\\documents\\vero\\crud python\\env\\lib\\site-packages (2.2.1)\n",
      "Requirement already satisfied: pandas in c:\\users\\solvo\\documents\\vero\\crud python\\env\\lib\\site-packages (2.2.3)\n",
      "Requirement already satisfied: transformers<5.0.0,>=4.41.0 in c:\\users\\solvo\\documents\\vero\\crud python\\env\\lib\\site-packages (from sentence-transformers) (4.48.0)\n",
      "Requirement already satisfied: tqdm in c:\\users\\solvo\\documents\\vero\\crud python\\env\\lib\\site-packages (from sentence-transformers) (4.67.1)\n",
      "Requirement already satisfied: torch>=1.11.0 in c:\\users\\solvo\\documents\\vero\\crud python\\env\\lib\\site-packages (from sentence-transformers) (2.5.1)\n",
      "Requirement already satisfied: scikit-learn in c:\\users\\solvo\\documents\\vero\\crud python\\env\\lib\\site-packages (from sentence-transformers) (1.6.1)\n",
      "Requirement already satisfied: scipy in c:\\users\\solvo\\documents\\vero\\crud python\\env\\lib\\site-packages (from sentence-transformers) (1.15.1)\n",
      "Requirement already satisfied: huggingface-hub>=0.20.0 in c:\\users\\solvo\\documents\\vero\\crud python\\env\\lib\\site-packages (from sentence-transformers) (0.27.1)\n",
      "Requirement already satisfied: Pillow in c:\\users\\solvo\\documents\\vero\\crud python\\env\\lib\\site-packages (from sentence-transformers) (11.1.0)\n",
      "Requirement already satisfied: python-dateutil>=2.8.2 in c:\\users\\solvo\\documents\\vero\\crud python\\env\\lib\\site-packages (from pandas) (2.9.0.post0)\n",
      "Requirement already satisfied: pytz>=2020.1 in c:\\users\\solvo\\documents\\vero\\crud python\\env\\lib\\site-packages (from pandas) (2024.2)\n",
      "Requirement already satisfied: tzdata>=2022.7 in c:\\users\\solvo\\documents\\vero\\crud python\\env\\lib\\site-packages (from pandas) (2024.2)\n",
      "Requirement already satisfied: filelock in c:\\users\\solvo\\documents\\vero\\crud python\\env\\lib\\site-packages (from huggingface-hub>=0.20.0->sentence-transformers) (3.16.1)\n",
      "Requirement already satisfied: fsspec>=2023.5.0 in c:\\users\\solvo\\documents\\vero\\crud python\\env\\lib\\site-packages (from huggingface-hub>=0.20.0->sentence-transformers) (2024.12.0)\n",
      "Requirement already satisfied: packaging>=20.9 in c:\\users\\solvo\\documents\\vero\\crud python\\env\\lib\\site-packages (from huggingface-hub>=0.20.0->sentence-transformers) (24.2)\n",
      "Requirement already satisfied: pyyaml>=5.1 in c:\\users\\solvo\\documents\\vero\\crud python\\env\\lib\\site-packages (from huggingface-hub>=0.20.0->sentence-transformers) (6.0.2)\n",
      "Requirement already satisfied: requests in c:\\users\\solvo\\documents\\vero\\crud python\\env\\lib\\site-packages (from huggingface-hub>=0.20.0->sentence-transformers) (2.32.3)\n",
      "Requirement already satisfied: typing-extensions>=3.7.4.3 in c:\\users\\solvo\\documents\\vero\\crud python\\env\\lib\\site-packages (from huggingface-hub>=0.20.0->sentence-transformers) (4.12.2)\n",
      "Requirement already satisfied: six>=1.5 in c:\\users\\solvo\\documents\\vero\\crud python\\env\\lib\\site-packages (from python-dateutil>=2.8.2->pandas) (1.17.0)\n",
      "Requirement already satisfied: networkx in c:\\users\\solvo\\documents\\vero\\crud python\\env\\lib\\site-packages (from torch>=1.11.0->sentence-transformers) (3.4.2)\n",
      "Requirement already satisfied: jinja2 in c:\\users\\solvo\\documents\\vero\\crud python\\env\\lib\\site-packages (from torch>=1.11.0->sentence-transformers) (3.1.5)\n",
      "Requirement already satisfied: sympy==1.13.1 in c:\\users\\solvo\\documents\\vero\\crud python\\env\\lib\\site-packages (from torch>=1.11.0->sentence-transformers) (1.13.1)\n",
      "Requirement already satisfied: mpmath<1.4,>=1.1.0 in c:\\users\\solvo\\documents\\vero\\crud python\\env\\lib\\site-packages (from sympy==1.13.1->torch>=1.11.0->sentence-transformers) (1.3.0)\n",
      "Requirement already satisfied: colorama in c:\\users\\solvo\\documents\\vero\\crud python\\env\\lib\\site-packages (from tqdm->sentence-transformers) (0.4.6)\n",
      "Requirement already satisfied: regex!=2019.12.17 in c:\\users\\solvo\\documents\\vero\\crud python\\env\\lib\\site-packages (from transformers<5.0.0,>=4.41.0->sentence-transformers) (2024.11.6)\n",
      "Requirement already satisfied: tokenizers<0.22,>=0.21 in c:\\users\\solvo\\documents\\vero\\crud python\\env\\lib\\site-packages (from transformers<5.0.0,>=4.41.0->sentence-transformers) (0.21.0)\n",
      "Requirement already satisfied: safetensors>=0.4.1 in c:\\users\\solvo\\documents\\vero\\crud python\\env\\lib\\site-packages (from transformers<5.0.0,>=4.41.0->sentence-transformers) (0.5.2)\n",
      "Requirement already satisfied: joblib>=1.2.0 in c:\\users\\solvo\\documents\\vero\\crud python\\env\\lib\\site-packages (from scikit-learn->sentence-transformers) (1.4.2)\n",
      "Requirement already satisfied: threadpoolctl>=3.1.0 in c:\\users\\solvo\\documents\\vero\\crud python\\env\\lib\\site-packages (from scikit-learn->sentence-transformers) (3.5.0)\n",
      "Requirement already satisfied: MarkupSafe>=2.0 in c:\\users\\solvo\\documents\\vero\\crud python\\env\\lib\\site-packages (from jinja2->torch>=1.11.0->sentence-transformers) (3.0.2)\n",
      "Requirement already satisfied: charset-normalizer<4,>=2 in c:\\users\\solvo\\documents\\vero\\crud python\\env\\lib\\site-packages (from requests->huggingface-hub>=0.20.0->sentence-transformers) (3.4.1)\n",
      "Requirement already satisfied: idna<4,>=2.5 in c:\\users\\solvo\\documents\\vero\\crud python\\env\\lib\\site-packages (from requests->huggingface-hub>=0.20.0->sentence-transformers) (3.10)\n",
      "Requirement already satisfied: urllib3<3,>=1.21.1 in c:\\users\\solvo\\documents\\vero\\crud python\\env\\lib\\site-packages (from requests->huggingface-hub>=0.20.0->sentence-transformers) (2.3.0)\n",
      "Requirement already satisfied: certifi>=2017.4.17 in c:\\users\\solvo\\documents\\vero\\crud python\\env\\lib\\site-packages (from requests->huggingface-hub>=0.20.0->sentence-transformers) (2024.12.14)\n",
      "Note: you may need to restart the kernel to use updated packages.\n"
     ]
    },
    {
     "name": "stderr",
     "output_type": "stream",
     "text": [
      "\n",
      "[notice] A new release of pip is available: 24.0 -> 24.3.1\n",
      "[notice] To update, run: python.exe -m pip install --upgrade pip\n"
     ]
    }
   ],
   "source": [
    "%pip install sentence-transformers numpy pandas"
   ]
  },
  {
   "cell_type": "markdown",
   "metadata": {},
   "source": [
    "Importar librerías necesarias"
   ]
  },
  {
   "cell_type": "code",
   "execution_count": 2,
   "metadata": {},
   "outputs": [
    {
     "name": "stderr",
     "output_type": "stream",
     "text": [
      "c:\\Users\\Solvo\\Documents\\vero\\CRUD python\\env\\Lib\\site-packages\\tqdm\\auto.py:21: TqdmWarning: IProgress not found. Please update jupyter and ipywidgets. See https://ipywidgets.readthedocs.io/en/stable/user_install.html\n",
      "  from .autonotebook import tqdm as notebook_tqdm\n"
     ]
    }
   ],
   "source": [
    "from sentence_transformers import SentenceTransformer\n",
    "import numpy as np\n",
    "import pandas as pd\n",
    "from sklearn.metrics.pairwise import cosine_similarity"
   ]
  },
  {
   "cell_type": "markdown",
   "metadata": {},
   "source": [
    "Crear el modelo de embeddings"
   ]
  },
  {
   "cell_type": "code",
   "execution_count": 3,
   "metadata": {},
   "outputs": [
    {
     "name": "stderr",
     "output_type": "stream",
     "text": [
      "c:\\Users\\Solvo\\Documents\\vero\\CRUD python\\env\\Lib\\site-packages\\huggingface_hub\\file_download.py:140: UserWarning: `huggingface_hub` cache-system uses symlinks by default to efficiently store duplicated files but your machine does not support them in C:\\Users\\Solvo\\.cache\\huggingface\\hub\\models--sentence-transformers--all-MiniLM-L6-v2. Caching files will still work but in a degraded version that might require more space on your disk. This warning can be disabled by setting the `HF_HUB_DISABLE_SYMLINKS_WARNING` environment variable. For more details, see https://huggingface.co/docs/huggingface_hub/how-to-cache#limitations.\n",
      "To support symlinks on Windows, you either need to activate Developer Mode or to run Python as an administrator. In order to activate developer mode, see this article: https://docs.microsoft.com/en-us/windows/apps/get-started/enable-your-device-for-development\n",
      "  warnings.warn(message)\n"
     ]
    }
   ],
   "source": [
    "modelo = SentenceTransformer('all-MiniLM-L6-v2')"
   ]
  },
  {
   "cell_type": "markdown",
   "metadata": {},
   "source": [
    "\n",
    "Inicializar el DataFrame donde se almacenarán los embeddings"
   ]
  },
  {
   "cell_type": "code",
   "execution_count": 4,
   "metadata": {},
   "outputs": [],
   "source": [
    "embeddings_df = pd.DataFrame(columns=[\"id\", \"embedding\", \"texto\"])"
   ]
  },
  {
   "cell_type": "markdown",
   "metadata": {},
   "source": [
    "1. Crear un embedding y agregarlo al DataFrame"
   ]
  },
  {
   "cell_type": "code",
   "execution_count": 6,
   "metadata": {},
   "outputs": [],
   "source": [
    "def agregar_embedding(texto):\n",
    "    embedding = modelo.encode([texto])[0]\n",
    "    nuevo_id = len(embeddings_df) + 1\n",
    "    embeddings_df.loc[len(embeddings_df)] = [nuevo_id, embedding, texto]\n",
    "    return nuevo_id, embedding"
   ]
  },
  {
   "cell_type": "markdown",
   "metadata": {},
   "source": [
    "2. Leer un embedding (consultar todos los embeddings)"
   ]
  },
  {
   "cell_type": "code",
   "execution_count": 7,
   "metadata": {},
   "outputs": [],
   "source": [
    "def obtener_embeddings():\n",
    "    return embeddings_df"
   ]
  },
  {
   "cell_type": "markdown",
   "metadata": {},
   "source": [
    "3. Consultar los embeddings más similares a una consulta"
   ]
  },
  {
   "cell_type": "code",
   "execution_count": 9,
   "metadata": {},
   "outputs": [],
   "source": [
    "def consultar_similares(texto_consulta, top_k=5):\n",
    "    embedding_consulta = modelo.encode([texto_consulta])[0]\n",
    "    embeddings_array = np.array(embeddings_df['embedding'].tolist())\n",
    "    sim = cosine_similarity([embedding_consulta], embeddings_array)\n",
    "    indices_similares = sim[0].argsort()[-top_k:][::-1]\n",
    "    \n",
    "    resultados = []\n",
    "    for idx in indices_similares:\n",
    "        resultados.append(embeddings_df.iloc[idx])\n",
    "    \n",
    "    return resultados"
   ]
  },
  {
   "cell_type": "markdown",
   "metadata": {},
   "source": [
    "4. Actualizar un embedding por ID"
   ]
  },
  {
   "cell_type": "code",
   "execution_count": 89,
   "metadata": {},
   "outputs": [],
   "source": [
    "def actualizar_embedding(id, nuevo_texto):\n",
    "    try:\n",
    "        # Verificar el tipo de la columna 'embedding'\n",
    "        if embeddings_df['embedding'].dtype != 'object':\n",
    "            embeddings_df['embedding'] = embeddings_df['embedding'].astype(object)\n",
    "        \n",
    "        # Obtener el embedding antiguo\n",
    "        embedding_antiguo = embeddings_df.loc[embeddings_df['id'] == id, 'embedding'].values[0]\n",
    "        print(\"Tamaño del antiguo embedding:\", len(embedding_antiguo))\n",
    "\n",
    "        # Generar el nuevo embedding\n",
    "        embedding_nuevo = modelo.encode([nuevo_texto])[0]\n",
    "        print(\"Tamaño del nuevo embedding:\", len(embedding_nuevo))\n",
    "\n",
    "        # Validar tamaño y tipo del embedding\n",
    "        if isinstance(embedding_nuevo, (list, np.ndarray)) and len(embedding_nuevo) == len(embedding_antiguo):\n",
    "            # Actualizar la fila correspondiente en el DataFrame\n",
    "            embeddings_df.loc[embeddings_df['id'] == id, 'embedding'] = embeddings_df.loc[embeddings_df['id'] == id, 'embedding'].apply(\n",
    "                lambda _: embedding_nuevo.tolist() if isinstance(embedding_nuevo, np.ndarray) else embedding_nuevo\n",
    "            )\n",
    "            embeddings_df.loc[embeddings_df['id'] == id, 'texto'] = nuevo_texto\n",
    "            print(f\"Embedding actualizado correctamente para el ID {id}\")\n",
    "            return id, nuevo_texto\n",
    "        else:\n",
    "            raise ValueError(\"El tamaño del nuevo embedding no coincide con el tamaño esperado.\")\n",
    "    except Exception as e:\n",
    "        print(f\"Error al actualizar el embedding: {e}\")\n",
    "        return None, None\n",
    "\n"
   ]
  },
  {
   "cell_type": "markdown",
   "metadata": {},
   "source": [
    "5. Eliminar un embedding por ID"
   ]
  },
  {
   "cell_type": "code",
   "execution_count": 11,
   "metadata": {},
   "outputs": [],
   "source": [
    "def eliminar_embedding(id):\n",
    "    embeddings_df.drop(embeddings_df[embeddings_df['id'] == id].index, inplace=True)\n",
    "    return id"
   ]
  },
  {
   "cell_type": "markdown",
   "metadata": {},
   "source": [
    "# Uso del CRUD\n",
    "\n",
    "1. Crear embeddings"
   ]
  },
  {
   "cell_type": "code",
   "execution_count": 37,
   "metadata": {},
   "outputs": [],
   "source": [
    "id1, embedding1 = agregar_embedding(\"Este es un texto de prueba.\")\n",
    "id2, embedding2 = agregar_embedding(\"Otro texto para generar un embedding.\")\n",
    "id3, embedding3 = agregar_embedding(\"Ejemplo de texto para el crud.\")"
   ]
  },
  {
   "cell_type": "markdown",
   "metadata": {},
   "source": [
    "2. Leer los embeddings"
   ]
  },
  {
   "cell_type": "code",
   "execution_count": 96,
   "metadata": {},
   "outputs": [
    {
     "name": "stdout",
     "output_type": "stream",
     "text": [
      "Embeddings en la base de datos:\n",
      "Empty DataFrame\n",
      "Columns: [id, embedding, texto]\n",
      "Index: []\n"
     ]
    }
   ],
   "source": [
    "print(\"Embeddings en la base de datos:\")\n",
    "print(obtener_embeddings())"
   ]
  },
  {
   "cell_type": "markdown",
   "metadata": {},
   "source": [
    "3. Consultar los embeddings más similares a un nuevo texto"
   ]
  },
  {
   "cell_type": "code",
   "execution_count": 44,
   "metadata": {},
   "outputs": [
    {
     "name": "stdout",
     "output_type": "stream",
     "text": [
      "\n",
      "Embeddings más similares a la consulta:\n",
      "id                                                           3\n",
      "embedding    [-0.008501961, 0.11116948, -0.060942918, 0.000...\n",
      "texto                           Ejemplo de texto para el crud.\n",
      "Name: 2, dtype: object\n",
      "id                                                           1\n",
      "embedding    [-0.017046897, 0.07555656, -0.038786806, 0.034...\n",
      "texto                              Este es un texto de prueba.\n",
      "Name: 0, dtype: object\n",
      "id                                                           2\n",
      "embedding    [-0.060038242, -0.006098334, -0.011147308, -0....\n",
      "texto                    Otro texto para generar un embedding.\n",
      "Name: 1, dtype: object\n"
     ]
    }
   ],
   "source": [
    "resultados = consultar_similares(\"texto de ejemplo\")\n",
    "print(\"\\nEmbeddings más similares a la consulta:\")\n",
    "for resultado in resultados:\n",
    "    print(resultado)"
   ]
  },
  {
   "cell_type": "markdown",
   "metadata": {},
   "source": [
    "4. Actualizar un embedding"
   ]
  },
  {
   "cell_type": "code",
   "execution_count": 90,
   "metadata": {},
   "outputs": [
    {
     "name": "stdout",
     "output_type": "stream",
     "text": [
      "Tamaño del antiguo embedding: 384\n",
      "Tamaño del nuevo embedding: 384\n",
      "Embedding actualizado correctamente para el ID 2\n",
      "Embedding actualizado: 2, Nuevo texto: Un texto generado para comprobar el funcionamiento del embedding.\n"
     ]
    }
   ],
   "source": [
    "# ID del embedding a actualizar y nuevo texto\n",
    "id_actualizar = 2\n",
    "nuevo_texto = \"Un texto generado para comprobar el funcionamiento del embedding.\"\n",
    "\n",
    "# Llamar a la función para actualizar el embedding\n",
    "id_actualizado, texto_actualizado = actualizar_embedding(id_actualizar, nuevo_texto)\n",
    "\n",
    "if id_actualizado is not None:\n",
    "    print(f\"Embedding actualizado: {id_actualizado}, Nuevo texto: {texto_actualizado}\")\n",
    "else:\n",
    "    print(\"Hubo un error al actualizar el embedding.\")\n"
   ]
  },
  {
   "cell_type": "markdown",
   "metadata": {},
   "source": [
    "5. Eliminar un embedding"
   ]
  },
  {
   "cell_type": "code",
   "execution_count": 95,
   "metadata": {},
   "outputs": [
    {
     "name": "stdout",
     "output_type": "stream",
     "text": [
      "\n",
      "Embedding eliminado: 3\n"
     ]
    }
   ],
   "source": [
    "id = 3\n",
    "id_eliminado = eliminar_embedding(id)\n",
    "print(f\"\\nEmbedding eliminado: {id_eliminado}\")"
   ]
  }
 ],
 "metadata": {
  "kernelspec": {
   "display_name": "env",
   "language": "python",
   "name": "python3"
  },
  "language_info": {
   "codemirror_mode": {
    "name": "ipython",
    "version": 3
   },
   "file_extension": ".py",
   "mimetype": "text/x-python",
   "name": "python",
   "nbconvert_exporter": "python",
   "pygments_lexer": "ipython3",
   "version": "3.11.9"
  }
 },
 "nbformat": 4,
 "nbformat_minor": 2
}
